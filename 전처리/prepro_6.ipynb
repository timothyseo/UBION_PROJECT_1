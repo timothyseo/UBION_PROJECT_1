{
 "cells": [
  {
   "cell_type": "code",
   "execution_count": 16,
   "metadata": {},
   "outputs": [],
   "source": [
    "import pandas as pd\n",
    "import numpy as np\n",
    "from scipy.stats.mstats import winsorize"
   ]
  },
  {
   "cell_type": "code",
   "execution_count": 17,
   "metadata": {},
   "outputs": [
    {
     "data": {
      "text/html": [
       "<div>\n",
       "<style scoped>\n",
       "    .dataframe tbody tr th:only-of-type {\n",
       "        vertical-align: middle;\n",
       "    }\n",
       "\n",
       "    .dataframe tbody tr th {\n",
       "        vertical-align: top;\n",
       "    }\n",
       "\n",
       "    .dataframe thead th {\n",
       "        text-align: right;\n",
       "    }\n",
       "</style>\n",
       "<table border=\"1\" class=\"dataframe\">\n",
       "  <thead>\n",
       "    <tr style=\"text-align: right;\">\n",
       "      <th></th>\n",
       "      <th>거래소코드</th>\n",
       "      <th>회사명</th>\n",
       "      <th>회계년도</th>\n",
       "      <th>PEG</th>\n",
       "    </tr>\n",
       "  </thead>\n",
       "  <tbody>\n",
       "    <tr>\n",
       "      <th>0</th>\n",
       "      <td>58820</td>\n",
       "      <td>(주)CMG제약</td>\n",
       "      <td>2011</td>\n",
       "      <td>0.000000</td>\n",
       "    </tr>\n",
       "    <tr>\n",
       "      <th>1</th>\n",
       "      <td>58820</td>\n",
       "      <td>(주)CMG제약</td>\n",
       "      <td>2012</td>\n",
       "      <td>0.000000</td>\n",
       "    </tr>\n",
       "    <tr>\n",
       "      <th>2</th>\n",
       "      <td>58820</td>\n",
       "      <td>(주)CMG제약</td>\n",
       "      <td>2013</td>\n",
       "      <td>14.256033</td>\n",
       "    </tr>\n",
       "    <tr>\n",
       "      <th>3</th>\n",
       "      <td>58820</td>\n",
       "      <td>(주)CMG제약</td>\n",
       "      <td>2014</td>\n",
       "      <td>23.557141</td>\n",
       "    </tr>\n",
       "    <tr>\n",
       "      <th>4</th>\n",
       "      <td>58820</td>\n",
       "      <td>(주)CMG제약</td>\n",
       "      <td>2015</td>\n",
       "      <td>0.000000</td>\n",
       "    </tr>\n",
       "    <tr>\n",
       "      <th>...</th>\n",
       "      <td>...</td>\n",
       "      <td>...</td>\n",
       "      <td>...</td>\n",
       "      <td>...</td>\n",
       "    </tr>\n",
       "    <tr>\n",
       "      <th>9706</th>\n",
       "      <td>25530</td>\n",
       "      <td>(주)에스제이엠홀딩스</td>\n",
       "      <td>2015</td>\n",
       "      <td>0.101062</td>\n",
       "    </tr>\n",
       "    <tr>\n",
       "      <th>9707</th>\n",
       "      <td>25530</td>\n",
       "      <td>(주)에스제이엠홀딩스</td>\n",
       "      <td>2016</td>\n",
       "      <td>0.066509</td>\n",
       "    </tr>\n",
       "    <tr>\n",
       "      <th>9708</th>\n",
       "      <td>25530</td>\n",
       "      <td>(주)에스제이엠홀딩스</td>\n",
       "      <td>2017</td>\n",
       "      <td>0.203981</td>\n",
       "    </tr>\n",
       "    <tr>\n",
       "      <th>9709</th>\n",
       "      <td>25530</td>\n",
       "      <td>(주)에스제이엠홀딩스</td>\n",
       "      <td>2018</td>\n",
       "      <td>-0.519606</td>\n",
       "    </tr>\n",
       "    <tr>\n",
       "      <th>9710</th>\n",
       "      <td>25530</td>\n",
       "      <td>(주)에스제이엠홀딩스</td>\n",
       "      <td>2019</td>\n",
       "      <td>-2.219475</td>\n",
       "    </tr>\n",
       "  </tbody>\n",
       "</table>\n",
       "<p>9711 rows × 4 columns</p>\n",
       "</div>"
      ],
      "text/plain": [
       "      거래소코드          회사명  회계년도        PEG\n",
       "0     58820     (주)CMG제약  2011   0.000000\n",
       "1     58820     (주)CMG제약  2012   0.000000\n",
       "2     58820     (주)CMG제약  2013  14.256033\n",
       "3     58820     (주)CMG제약  2014  23.557141\n",
       "4     58820     (주)CMG제약  2015   0.000000\n",
       "...     ...          ...   ...        ...\n",
       "9706  25530  (주)에스제이엠홀딩스  2015   0.101062\n",
       "9707  25530  (주)에스제이엠홀딩스  2016   0.066509\n",
       "9708  25530  (주)에스제이엠홀딩스  2017   0.203981\n",
       "9709  25530  (주)에스제이엠홀딩스  2018  -0.519606\n",
       "9710  25530  (주)에스제이엠홀딩스  2019  -2.219475\n",
       "\n",
       "[9711 rows x 4 columns]"
      ]
     },
     "execution_count": 17,
     "metadata": {},
     "output_type": "execute_result"
    }
   ],
   "source": [
    "df = pd.read_csv('./df_PEG_final(1).csv')\n",
    "df"
   ]
  },
  {
   "cell_type": "code",
   "execution_count": 18,
   "metadata": {},
   "outputs": [
    {
     "name": "stdout",
     "output_type": "stream",
     "text": [
      "<class 'pandas.core.frame.DataFrame'>\n",
      "RangeIndex: 9711 entries, 0 to 9710\n",
      "Data columns (total 4 columns):\n",
      " #   Column  Non-Null Count  Dtype  \n",
      "---  ------  --------------  -----  \n",
      " 0   거래소코드   9711 non-null   int64  \n",
      " 1   회사명     9711 non-null   object \n",
      " 2   회계년도    9711 non-null   int64  \n",
      " 3   PEG     7845 non-null   float64\n",
      "dtypes: float64(1), int64(2), object(1)\n",
      "memory usage: 303.6+ KB\n"
     ]
    }
   ],
   "source": [
    "df.info()"
   ]
  },
  {
   "cell_type": "code",
   "execution_count": 19,
   "metadata": {},
   "outputs": [
    {
     "data": {
      "text/plain": [
       " 0.000000    1011\n",
       " inf           10\n",
       " 0.978126       1\n",
       " 0.055647       1\n",
       " 1.530871       1\n",
       "             ... \n",
       "-0.854661       1\n",
       " 1.161929       1\n",
       " 0.803403       1\n",
       " 0.980309       1\n",
       "-2.219475       1\n",
       "Name: PEG, Length: 6826, dtype: int64"
      ]
     },
     "execution_count": 19,
     "metadata": {},
     "output_type": "execute_result"
    }
   ],
   "source": [
    "df['PEG'].value_counts()"
   ]
  },
  {
   "cell_type": "code",
   "execution_count": 20,
   "metadata": {},
   "outputs": [],
   "source": [
    "for i in df.index:\n",
    "    if df.loc[i, 'PEG'] == 'inf' and df.loc[i, 'PEG'] == 0.000000 and df.loc[i, 'PEG'] >= 500:\n",
    "        df.loc[i, 'PEG'] = 1000\n",
    "\n",
    "df['PEG'] = df['PEG'].fillna(1000)\n"
   ]
  },
  {
   "cell_type": "code",
   "execution_count": 21,
   "metadata": {},
   "outputs": [
    {
     "name": "stdout",
     "output_type": "stream",
     "text": [
      "<class 'pandas.core.frame.DataFrame'>\n",
      "RangeIndex: 9711 entries, 0 to 9710\n",
      "Data columns (total 4 columns):\n",
      " #   Column  Non-Null Count  Dtype  \n",
      "---  ------  --------------  -----  \n",
      " 0   거래소코드   9711 non-null   int64  \n",
      " 1   회사명     9711 non-null   object \n",
      " 2   회계년도    9711 non-null   int64  \n",
      " 3   PEG     9711 non-null   float64\n",
      "dtypes: float64(1), int64(2), object(1)\n",
      "memory usage: 303.6+ KB\n"
     ]
    }
   ],
   "source": [
    "df.info()"
   ]
  },
  {
   "cell_type": "code",
   "execution_count": 23,
   "metadata": {},
   "outputs": [
    {
     "data": {
      "text/plain": [
       " 1000.000000    1866\n",
       " 0.000000       1011\n",
       " inf              10\n",
       " 0.084559          1\n",
       " 0.055647          1\n",
       "                ... \n",
       "-0.854661          1\n",
       " 1.161929          1\n",
       " 0.803403          1\n",
       " 0.980309          1\n",
       "-2.219475          1\n",
       "Name: PEG, Length: 6827, dtype: int64"
      ]
     },
     "execution_count": 23,
     "metadata": {},
     "output_type": "execute_result"
    }
   ],
   "source": [
    "df['PEG'].value_counts()"
   ]
  },
  {
   "cell_type": "code",
   "execution_count": 34,
   "metadata": {},
   "outputs": [],
   "source": [
    "df_c = df[(df['PEG'] != float('inf'))]"
   ]
  },
  {
   "cell_type": "code",
   "execution_count": 36,
   "metadata": {},
   "outputs": [
    {
     "data": {
      "text/plain": [
       "193.08395093346434"
      ]
     },
     "execution_count": 36,
     "metadata": {},
     "output_type": "execute_result"
    }
   ],
   "source": [
    "df_c['PEG'].mean()"
   ]
  },
  {
   "cell_type": "code",
   "execution_count": 9,
   "metadata": {},
   "outputs": [
    {
     "name": "stderr",
     "output_type": "stream",
     "text": [
      "C:\\Users\\seopa\\AppData\\Local\\Temp\\ipykernel_1676\\2412389602.py:1: SettingWithCopyWarning: \n",
      "A value is trying to be set on a copy of a slice from a DataFrame\n",
      "\n",
      "See the caveats in the documentation: https://pandas.pydata.org/pandas-docs/stable/user_guide/indexing.html#returning-a-view-versus-a-copy\n",
      "  df['PEG'][np.isinf(df['PEG'])] = np.finfo(float).max\n"
     ]
    }
   ],
   "source": [
    "df['PEG'][np.isinf(df['PEG'])] = np.finfo(float).max"
   ]
  },
  {
   "cell_type": "code",
   "execution_count": 10,
   "metadata": {},
   "outputs": [
    {
     "data": {
      "text/plain": [
       "inf"
      ]
     },
     "execution_count": 10,
     "metadata": {},
     "output_type": "execute_result"
    }
   ],
   "source": [
    "df['PEG'].mean()"
   ]
  },
  {
   "cell_type": "code",
   "execution_count": 12,
   "metadata": {},
   "outputs": [
    {
     "data": {
      "text/plain": [
       "count     9.711000e+03\n",
       "mean               inf\n",
       "std                inf\n",
       "min      -7.061102e+02\n",
       "25%      -7.058383e-01\n",
       "50%       2.187275e-01\n",
       "75%       3.749974e+00\n",
       "max      1.797693e+308\n",
       "Name: PEG, dtype: float64"
      ]
     },
     "execution_count": 12,
     "metadata": {},
     "output_type": "execute_result"
    }
   ],
   "source": [
    "df['PEG'].describe()"
   ]
  },
  {
   "cell_type": "code",
   "execution_count": 7,
   "metadata": {},
   "outputs": [],
   "source": [
    "df.to_csv('df_PEG_final(2).csv', index=False)"
   ]
  },
  {
   "cell_type": "code",
   "execution_count": null,
   "metadata": {},
   "outputs": [],
   "source": []
  }
 ],
 "metadata": {
  "kernelspec": {
   "display_name": "Python 3",
   "language": "python",
   "name": "python3"
  },
  "language_info": {
   "codemirror_mode": {
    "name": "ipython",
    "version": 3
   },
   "file_extension": ".py",
   "mimetype": "text/x-python",
   "name": "python",
   "nbconvert_exporter": "python",
   "pygments_lexer": "ipython3",
   "version": "3.11.1"
  },
  "orig_nbformat": 4
 },
 "nbformat": 4,
 "nbformat_minor": 2
}
